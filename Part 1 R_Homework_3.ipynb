{
  "cells": [
    {
      "cell_type": "markdown",
      "metadata": {
        "id": "view-in-github",
        "colab_type": "text"
      },
      "source": [
        "<a href=\"https://colab.research.google.com/github/akashbhakat-bit/AMO1/blob/main/Part%201%20R_Homework_3.ipynb\" target=\"_parent\"><img src=\"https://colab.research.google.com/assets/colab-badge.svg\" alt=\"Open In Colab\"/></a>"
      ]
    },
    {
      "cell_type": "code",
      "execution_count": 3,
      "metadata": {
        "colab": {
          "base_uri": "https://localhost:8080/"
        },
        "id": "Ddgt9CNjuNmg",
        "outputId": "0b8053df-c542-443a-8e4d-11d2180ff4f0"
      },
      "outputs": [
        {
          "output_type": "stream",
          "name": "stderr",
          "text": [
            "Installing package into ‘/usr/local/lib/R/site-library’\n",
            "(as ‘lib’ is unspecified)\n",
            "\n",
            "Installing package into ‘/usr/local/lib/R/site-library’\n",
            "(as ‘lib’ is unspecified)\n",
            "\n",
            "Installing package into ‘/usr/local/lib/R/site-library’\n",
            "(as ‘lib’ is unspecified)\n",
            "\n",
            "Installing package into ‘/usr/local/lib/R/site-library’\n",
            "(as ‘lib’ is unspecified)\n",
            "\n",
            "Installing package into ‘/usr/local/lib/R/site-library’\n",
            "(as ‘lib’ is unspecified)\n",
            "\n",
            "also installing the dependency ‘snakecase’\n",
            "\n",
            "\n",
            "Installing package into ‘/usr/local/lib/R/site-library’\n",
            "(as ‘lib’ is unspecified)\n",
            "\n",
            "Installing package into ‘/usr/local/lib/R/site-library’\n",
            "(as ‘lib’ is unspecified)\n",
            "\n",
            "Installing package into ‘/usr/local/lib/R/site-library’\n",
            "(as ‘lib’ is unspecified)\n",
            "\n",
            "Installing package into ‘/usr/local/lib/R/site-library’\n",
            "(as ‘lib’ is unspecified)\n",
            "\n",
            "Installing package into ‘/usr/local/lib/R/site-library’\n",
            "(as ‘lib’ is unspecified)\n",
            "\n",
            "Installing package into ‘/usr/local/lib/R/site-library’\n",
            "(as ‘lib’ is unspecified)\n",
            "\n",
            "also installing the dependency ‘tweenr’\n",
            "\n",
            "\n",
            "Installing package into ‘/usr/local/lib/R/site-library’\n",
            "(as ‘lib’ is unspecified)\n",
            "\n",
            "Installing package into ‘/usr/local/lib/R/site-library’\n",
            "(as ‘lib’ is unspecified)\n",
            "\n",
            "Installing package into ‘/usr/local/lib/R/site-library’\n",
            "(as ‘lib’ is unspecified)\n",
            "\n",
            "Installing package into ‘/usr/local/lib/R/site-library’\n",
            "(as ‘lib’ is unspecified)\n",
            "\n",
            "also installing the dependency ‘assertthat’\n",
            "\n",
            "\n",
            "Installing package into ‘/usr/local/lib/R/site-library’\n",
            "(as ‘lib’ is unspecified)\n",
            "\n",
            "Installing package into ‘/usr/local/lib/R/site-library’\n",
            "(as ‘lib’ is unspecified)\n",
            "\n",
            "Installing package into ‘/usr/local/lib/R/site-library’\n",
            "(as ‘lib’ is unspecified)\n",
            "\n",
            "Installing package into ‘/usr/local/lib/R/site-library’\n",
            "(as ‘lib’ is unspecified)\n",
            "\n",
            "also installing the dependencies ‘later’, ‘Rcpp’, ‘htmlwidgets’, ‘lazyeval’, ‘crosstalk’, ‘promises’\n",
            "\n",
            "\n",
            "Installing package into ‘/usr/local/lib/R/site-library’\n",
            "(as ‘lib’ is unspecified)\n",
            "\n",
            "also installing the dependencies ‘plyr’, ‘polyclip’, ‘RcppEigen’, ‘ggstance’, ‘ggridges’, ‘ggforce’, ‘labelled’, ‘ggformula’, ‘mosaicData’, ‘mosaicCore’\n",
            "\n",
            "\n",
            "Installing package into ‘/usr/local/lib/R/site-library’\n",
            "(as ‘lib’ is unspecified)\n",
            "\n",
            "Installing package into ‘/usr/local/lib/R/site-library’\n",
            "(as ‘lib’ is unspecified)\n",
            "\n",
            "Installing package into ‘/usr/local/lib/R/site-library’\n",
            "(as ‘lib’ is unspecified)\n",
            "\n"
          ]
        }
      ],
      "source": [
        "install.packages(\"tidyverse\")\n",
        "install.packages(\"ggthemes\")\n",
        "install.packages(\"lubridate\")\n",
        "install.packages(\"skimr\")\n",
        "install.packages(\"janitor\")\n",
        "install.packages(\"httr\")\n",
        "install.packages(\"readxl\")\n",
        "install.packages(\"vroom\")\n",
        "install.packages(\"countrycode\")\n",
        "install.packages(\"patchwork\")\n",
        "install.packages(\"gganimate\")\n",
        "install.packages(\"tictoc\")\n",
        "install.packages(\"DBI\")\n",
        "install.packages(\"dbplyr\")\n",
        "install.packages(\"arrow\")\n",
        "install.packages(\"rvest\")\n",
        "install.packages(\"scales\")\n",
        "install.packages(\"readxl\")\n",
        "install.packages(\"plotly\")\n",
        "install.packages(\"mosaic\")\n",
        "install.packages(\"infer\")\n",
        "install.packages(\"here\")\n",
        "install.packages(\"wbstats\")"
      ]
    },
    {
      "cell_type": "code",
      "execution_count": 4,
      "metadata": {
        "id": "A_SEF3RSu6Da",
        "colab": {
          "base_uri": "https://localhost:8080/"
        },
        "outputId": "1344a7f5-979d-4bee-c22d-c2ddc1d0ae6a"
      },
      "outputs": [
        {
          "output_type": "stream",
          "name": "stderr",
          "text": [
            "── \u001b[1mAttaching core tidyverse packages\u001b[22m ──────────────────────── tidyverse 2.0.0 ──\n",
            "\u001b[32m✔\u001b[39m \u001b[34mdplyr    \u001b[39m 1.1.2     \u001b[32m✔\u001b[39m \u001b[34mreadr    \u001b[39m 2.1.4\n",
            "\u001b[32m✔\u001b[39m \u001b[34mforcats  \u001b[39m 1.0.0     \u001b[32m✔\u001b[39m \u001b[34mstringr  \u001b[39m 1.5.0\n",
            "\u001b[32m✔\u001b[39m \u001b[34mggplot2  \u001b[39m 3.4.3     \u001b[32m✔\u001b[39m \u001b[34mtibble   \u001b[39m 3.2.1\n",
            "\u001b[32m✔\u001b[39m \u001b[34mlubridate\u001b[39m 1.9.2     \u001b[32m✔\u001b[39m \u001b[34mtidyr    \u001b[39m 1.3.0\n",
            "\u001b[32m✔\u001b[39m \u001b[34mpurrr    \u001b[39m 1.0.2     \n",
            "── \u001b[1mConflicts\u001b[22m ────────────────────────────────────────── tidyverse_conflicts() ──\n",
            "\u001b[31m✖\u001b[39m \u001b[34mdplyr\u001b[39m::\u001b[32mfilter()\u001b[39m masks \u001b[34mstats\u001b[39m::filter()\n",
            "\u001b[31m✖\u001b[39m \u001b[34mdplyr\u001b[39m::\u001b[32mlag()\u001b[39m    masks \u001b[34mstats\u001b[39m::lag()\n",
            "\u001b[36mℹ\u001b[39m Use the conflicted package (\u001b[3m\u001b[34m<http://conflicted.r-lib.org/>\u001b[39m\u001b[23m) to force all conflicts to become errors\n",
            "Registered S3 method overwritten by 'mosaic':\n",
            "  method                           from   \n",
            "  fortify.SpatialPolygonsDataFrame ggplot2\n",
            "\n",
            "\n",
            "The 'mosaic' package masks several functions from core packages in order to add \n",
            "additional features.  The original behavior of these functions should not be affected by this.\n",
            "\n",
            "\n",
            "Attaching package: ‘mosaic’\n",
            "\n",
            "\n",
            "The following object is masked from ‘package:Matrix’:\n",
            "\n",
            "    mean\n",
            "\n",
            "\n",
            "The following objects are masked from ‘package:dplyr’:\n",
            "\n",
            "    count, do, tally\n",
            "\n",
            "\n",
            "The following object is masked from ‘package:purrr’:\n",
            "\n",
            "    cross\n",
            "\n",
            "\n",
            "The following object is masked from ‘package:ggplot2’:\n",
            "\n",
            "    stat\n",
            "\n",
            "\n",
            "The following objects are masked from ‘package:stats’:\n",
            "\n",
            "    binom.test, cor, cor.test, cov, fivenum, IQR, median, prop.test,\n",
            "    quantile, sd, t.test, var\n",
            "\n",
            "\n",
            "The following objects are masked from ‘package:base’:\n",
            "\n",
            "    max, mean, min, prod, range, sample, sum\n",
            "\n",
            "\n",
            "\n",
            "Attaching package: ‘ggthemes’\n",
            "\n",
            "\n",
            "The following object is masked from ‘package:mosaic’:\n",
            "\n",
            "    theme_map\n",
            "\n",
            "\n",
            "here() starts at /content\n",
            "\n",
            "\n",
            "Attaching package: ‘skimr’\n",
            "\n",
            "\n",
            "The following object is masked from ‘package:mosaic’:\n",
            "\n",
            "    n_missing\n",
            "\n",
            "\n",
            "\n",
            "Attaching package: ‘janitor’\n",
            "\n",
            "\n",
            "The following objects are masked from ‘package:stats’:\n",
            "\n",
            "    chisq.test, fisher.test\n",
            "\n",
            "\n",
            "\n",
            "Attaching package: ‘vroom’\n",
            "\n",
            "\n",
            "The following objects are masked from ‘package:readr’:\n",
            "\n",
            "    as.col_spec, col_character, col_date, col_datetime, col_double,\n",
            "    col_factor, col_guess, col_integer, col_logical, col_number,\n",
            "    col_skip, col_time, cols, cols_condense, cols_only, date_names,\n",
            "    date_names_lang, date_names_langs, default_locale, fwf_cols,\n",
            "    fwf_empty, fwf_positions, fwf_widths, locale, output_column,\n",
            "    problems, spec\n",
            "\n",
            "\n",
            "No renderer backend detected. gganimate will default to writing frames to separate files\n",
            "Consider installing:\n",
            "- the `gifski` package for gif output\n",
            "- the `av` package for video output\n",
            "and restarting the R session\n",
            "\n",
            "\n",
            "Attaching package: ‘dbplyr’\n",
            "\n",
            "\n",
            "The following objects are masked from ‘package:dplyr’:\n",
            "\n",
            "    ident, sql\n",
            "\n",
            "\n",
            "\n",
            "Attaching package: ‘arrow’\n",
            "\n",
            "\n",
            "The following object is masked from ‘package:lubridate’:\n",
            "\n",
            "    duration\n",
            "\n",
            "\n",
            "The following object is masked from ‘package:utils’:\n",
            "\n",
            "    timestamp\n",
            "\n",
            "\n",
            "\n",
            "Attaching package: ‘rvest’\n",
            "\n",
            "\n",
            "The following object is masked from ‘package:readr’:\n",
            "\n",
            "    guess_encoding\n",
            "\n",
            "\n",
            "\n",
            "Attaching package: ‘scales’\n",
            "\n",
            "\n",
            "The following object is masked from ‘package:vroom’:\n",
            "\n",
            "    col_factor\n",
            "\n",
            "\n",
            "The following object is masked from ‘package:mosaic’:\n",
            "\n",
            "    rescale\n",
            "\n",
            "\n",
            "The following object is masked from ‘package:purrr’:\n",
            "\n",
            "    discard\n",
            "\n",
            "\n",
            "The following object is masked from ‘package:readr’:\n",
            "\n",
            "    col_factor\n",
            "\n",
            "\n",
            "\n",
            "Attaching package: ‘plotly’\n",
            "\n",
            "\n",
            "The following object is masked from ‘package:arrow’:\n",
            "\n",
            "    schema\n",
            "\n",
            "\n",
            "The following object is masked from ‘package:httr’:\n",
            "\n",
            "    config\n",
            "\n",
            "\n",
            "The following object is masked from ‘package:mosaic’:\n",
            "\n",
            "    do\n",
            "\n",
            "\n",
            "The following object is masked from ‘package:ggplot2’:\n",
            "\n",
            "    last_plot\n",
            "\n",
            "\n",
            "The following object is masked from ‘package:stats’:\n",
            "\n",
            "    filter\n",
            "\n",
            "\n",
            "The following object is masked from ‘package:graphics’:\n",
            "\n",
            "    layout\n",
            "\n",
            "\n",
            "\n",
            "Attaching package: ‘infer’\n",
            "\n",
            "\n",
            "The following objects are masked from ‘package:mosaic’:\n",
            "\n",
            "    prop_test, t_test\n",
            "\n",
            "\n"
          ]
        }
      ],
      "source": [
        "# importing libraries\n",
        "\n",
        "library(tidyverse)\n",
        "library(mosaic)\n",
        "library(ggthemes)\n",
        "library(lubridate)\n",
        "library(here)\n",
        "library(skimr)\n",
        "library(janitor)\n",
        "library(httr)\n",
        "library(readxl)\n",
        "library(vroom)\n",
        "library(wbstats)\n",
        "library(countrycode)\n",
        "library(patchwork)\n",
        "library(gganimate)\n",
        "library(tictoc)\n",
        "library(DBI)\n",
        "library(dbplyr)\n",
        "library(arrow)\n",
        "library(rvest)\n",
        "library(scales)\n",
        "library(readxl)\n",
        "library(plotly)\n",
        "library(infer)"
      ]
    },
    {
      "cell_type": "markdown",
      "metadata": {
        "id": "_TaJNtvWIb3M"
      },
      "source": [
        "Q2-HW3"
      ]
    },
    {
      "cell_type": "markdown",
      "metadata": {
        "id": "JhFBJf-kvmeR"
      },
      "source": [
        "# IMDB ratings: Differences between directors\n",
        "\n",
        "Recall the IMBD ratings data.\n",
        "I would like you to explore whether the mean IMDB rating for Steven Spielberg\n",
        "and Tim Burton are the same or not. I have already calculated the confidence intervals\n",
        "for the mean ratings of these two directors and as you can see they overlap.\n",
        "\n",
        "\n",
        "```{r directors, echo=FALSE, out.width=\"100%\"}\n",
        "knitr::include_graphics(here::here(\"images\", \"directors.png\"), error = FALSE)\n",
        "```\n",
        "\n",
        "First, I would like you to reproduce this graph. You may find `geom_errorbar()` and `geom_rect()` useful.\n",
        "\n",
        "In addition, you will run a hpothesis test. You should use both the `t.test` command and the `infer` package to simulate from a null distribution, where you assume zero difference between the two.\n",
        "\n",
        "> Before anything, write down the null and alternative hypotheses, as well as the resulting test statistic and the associated t-stat or p-value. At the end of the day, what do you conclude?"
      ]
    },
    {
      "cell_type": "code",
      "execution_count": 6,
      "metadata": {
        "colab": {
          "base_uri": "https://localhost:8080/"
        },
        "id": "ESd3yTvOu-0k",
        "outputId": "b10edc10-776e-4a80-fc15-fd605cbfbc78"
      },
      "outputs": [
        {
          "output_type": "stream",
          "name": "stderr",
          "text": [
            "\u001b[1mRows: \u001b[22m\u001b[34m2961\u001b[39m \u001b[1mColumns: \u001b[22m\u001b[34m11\u001b[39m\n",
            "\u001b[36m──\u001b[39m \u001b[1mColumn specification\u001b[22m \u001b[36m────────────────────────────────────────────────────────\u001b[39m\n",
            "\u001b[1mDelimiter:\u001b[22m \",\"\n",
            "\u001b[31mchr\u001b[39m (3): title, genre, director\n",
            "\u001b[32mdbl\u001b[39m (8): year, duration, gross, budget, cast_facebook_likes, votes, reviews,...\n",
            "\n",
            "\u001b[36mℹ\u001b[39m Use `spec()` to retrieve the full column specification for this data.\n",
            "\u001b[36mℹ\u001b[39m Specify the column types or set `show_col_types = FALSE` to quiet this message.\n"
          ]
        },
        {
          "output_type": "stream",
          "name": "stdout",
          "text": [
            "Rows: 2,961\n",
            "Columns: 11\n",
            "$ title               \u001b[3m\u001b[90m<chr>\u001b[39m\u001b[23m \"Avatar\", \"Titanic\", \"Jurassic World\", \"The Avenge…\n",
            "$ genre               \u001b[3m\u001b[90m<chr>\u001b[39m\u001b[23m \"Action\", \"Drama\", \"Action\", \"Action\", \"Action\", \"…\n",
            "$ director            \u001b[3m\u001b[90m<chr>\u001b[39m\u001b[23m \"James Cameron\", \"James Cameron\", \"Colin Trevorrow…\n",
            "$ year                \u001b[3m\u001b[90m<dbl>\u001b[39m\u001b[23m 2009, 1997, 2015, 2012, 2008, 1999, 1977, 2015, 20…\n",
            "$ duration            \u001b[3m\u001b[90m<dbl>\u001b[39m\u001b[23m 178, 194, 124, 173, 152, 136, 125, 141, 164, 93, 1…\n",
            "$ gross               \u001b[3m\u001b[90m<dbl>\u001b[39m\u001b[23m 760505847, 658672302, 652177271, 623279547, 533316…\n",
            "$ budget              \u001b[3m\u001b[90m<dbl>\u001b[39m\u001b[23m 2.37e+08, 2.00e+08, 1.50e+08, 2.20e+08, 1.85e+08, …\n",
            "$ cast_facebook_likes \u001b[3m\u001b[90m<dbl>\u001b[39m\u001b[23m 4834, 45223, 8458, 87697, 57802, 37723, 13485, 920…\n",
            "$ votes               \u001b[3m\u001b[90m<dbl>\u001b[39m\u001b[23m 886204, 793059, 418214, 995415, 1676169, 534658, 9…\n",
            "$ reviews             \u001b[3m\u001b[90m<dbl>\u001b[39m\u001b[23m 3777, 2843, 1934, 2425, 5312, 3917, 1752, 1752, 35…\n",
            "$ rating              \u001b[3m\u001b[90m<dbl>\u001b[39m\u001b[23m 7.9, 7.7, 7.0, 8.1, 9.0, 6.5, 8.7, 7.5, 8.5, 7.2, …\n"
          ]
        }
      ],
      "source": [
        "# loading movies.csv\n",
        "\n",
        "movies <- read_csv(\"/content/movies.csv\")                                       # loading dataframe\n",
        "glimpse(movies)                                                                 # summary of the dataframe movies & its structure\n"
      ]
    },
    {
      "cell_type": "markdown",
      "metadata": {
        "id": "yjS66K3sJKrB"
      },
      "source": [
        "Hypothesis"
      ]
    },
    {
      "cell_type": "markdown",
      "metadata": {
        "id": "y0ytWrW0JMks"
      },
      "source": [
        "H0 : mean IMDB rating for Steven Spielberg and Tim Burton are the same"
      ]
    },
    {
      "cell_type": "markdown",
      "metadata": {
        "id": "x_fi4aqFLtqJ"
      },
      "source": [
        "H1 : mean IMDB rating for Steven Spielberg and Tim Burton are not the same"
      ]
    },
    {
      "cell_type": "markdown",
      "metadata": {
        "id": "gXrAdhODLwqf"
      },
      "source": [
        "t-test"
      ]
    },
    {
      "cell_type": "code",
      "execution_count": 7,
      "metadata": {
        "colab": {
          "base_uri": "https://localhost:8080/",
          "height": 355
        },
        "id": "YK7A8yJdwJud",
        "outputId": "199aa745-c055-4924-b459-721e64c246f1"
      },
      "outputs": [
        {
          "output_type": "display_data",
          "data": {
            "text/plain": [
              "\n",
              "\tWelch Two Sample t-test\n",
              "\n",
              "data:  rating by director\n",
              "t = 2.7144, df = 30.812, p-value = 0.01078\n",
              "alternative hypothesis: true difference in means between group Steven Spielberg and group Tim Burton is not equal to 0\n",
              "95 percent confidence interval:\n",
              " 0.1596624 1.1256637\n",
              "sample estimates:\n",
              "mean in group Steven Spielberg       mean in group Tim Burton \n",
              "                      7.573913                       6.931250 \n"
            ]
          },
          "metadata": {}
        },
        {
          "output_type": "display_data",
          "data": {
            "text/html": [
              "<table class=\"dataframe\">\n",
              "<caption>A tibble: 1 × 1</caption>\n",
              "<thead>\n",
              "\t<tr><th scope=col>p_value</th></tr>\n",
              "\t<tr><th scope=col>&lt;dbl&gt;</th></tr>\n",
              "</thead>\n",
              "<tbody>\n",
              "\t<tr><td>0.008</td></tr>\n",
              "</tbody>\n",
              "</table>\n"
            ],
            "text/markdown": "\nA tibble: 1 × 1\n\n| p_value &lt;dbl&gt; |\n|---|\n| 0.008 |\n\n",
            "text/latex": "A tibble: 1 × 1\n\\begin{tabular}{l}\n p\\_value\\\\\n <dbl>\\\\\n\\hline\n\t 0.008\\\\\n\\end{tabular}\n",
            "text/plain": [
              "  p_value\n",
              "1 0.008  "
            ]
          },
          "metadata": {}
        }
      ],
      "source": [
        "refined_dataframe <- movies %>%\n",
        "  group_by(director) %>%\n",
        "  filter(director %in% c(\"Steven Spielberg\", \"Tim Burton\")) %>%\n",
        "  select(director,rating)\n",
        "\n",
        "#head(refined_dataframe)\n",
        "\n",
        "steven_rating <- (refined_dataframe %>% filter(director==\"Steven Spielberg\"))$rating\n",
        "tim_rating <- (refined_dataframe %>% filter(director==\"Tim Burton\"))$rating\n",
        "\n",
        "# Perform independent samples t-test\n",
        "t_test_result <- t.test(rating ~ director, data = refined_dataframe)\n",
        "t_test_result\n",
        "\n",
        "# Get the observed t-statistic\n",
        "observed_t_statistic <- t_test_result$statistic\n",
        "\n",
        "# set seed\n",
        "set.seed(1234)\n",
        "# Create a null model by shuffling 'director' labels while preserving sample sizes\n",
        "null_model <- refined_dataframe %>%\n",
        "  specify(formula = rating ~ director) %>%\n",
        "  hypothesize(null = \"independence\") %>%\n",
        "  generate(reps = 1000, type = \"permute\") %>%\n",
        "  calculate(stat = \"t\", order = c(\"Steven Spielberg\", \"Tim Burton\"))\n",
        "\n",
        "# Calculate the p-value based on the null distribution\n",
        "p_value_simulated <- null_model %>%\n",
        "  get_p_value(obs_stat = observed_t_statistic, direction = \"both\")\n",
        "\n",
        "# Print the simulated p-value\n",
        "p_value_simulated"
      ]
    },
    {
      "cell_type": "markdown",
      "source": [
        "# Exploring sources of electricity production, CO2 emissions, and GDP per capita.\n",
        "\n",
        "## 1. A stacked area chart that shows how your own country generated its electricity since 2000.\n",
        "\n",
        "You will use\n",
        "\n",
        "`geom_area(colour=\"grey90\", alpha = 0.5, position = \"fill\")`\n",
        "\n",
        "## 2. A scatter plot that looks at how CO2 per capita and GDP per capita are related\n",
        "\n",
        "## 3. A scatter plot that looks at how electricity usage (kWh) per capita/day GDP per capita are related\n",
        "\n",
        "Specific questions:\n",
        "\n",
        "1.  How would you turn `energy` to long, tidy format?\n",
        "2.  You may need to join these data frames\n",
        "    -   Use `left_join` from `dplyr` to [join the tables](http://r4ds.had.co.nz/relational-data.html)\n",
        "    -   To complete the merge, you need a unique *key* to match observations between the data frames. Country names may not be consistent among the three dataframes, so please use the 3-digit ISO code for each country\n",
        "    -   An aside: There is a great package called [`countrycode`](https://github.com/vincentarelbundock/countrycode) that helps solve the problem of inconsistent country names (Is it UK? United Kingdom? Great Britain?). `countrycode()` takes as an input a country's name in a specific format and outputs it using whatever format you specify.\n",
        "3.  Write a function that takes as input any country's name and returns all three graphs. You can use the `patchwork` package to arrange the three graphs as shown below\n"
      ],
      "metadata": {
        "id": "WXYf4IJU4wb1"
      }
    },
    {
      "cell_type": "code",
      "source": [
        "# Download electricity data\n",
        "url <- \"https://nyc3.digitaloceanspaces.com/owid-public/data/energy/owid-energy-data.csv\"\n",
        "\n",
        "energy <- read_csv(url) %>%\n",
        "  filter(year >= 1990) %>%\n",
        "  drop_na(iso_code) %>%\n",
        "  select(1:3,\n",
        "         biofuel = biofuel_electricity,\n",
        "         coal = coal_electricity,\n",
        "         gas = gas_electricity,\n",
        "         hydro = hydro_electricity,\n",
        "         nuclear = nuclear_electricity,\n",
        "         oil = oil_electricity,\n",
        "         other_renewable = other_renewable_exc_biofuel_electricity,\n",
        "         solar = solar_electricity,\n",
        "         wind = wind_electricity,\n",
        "         electricity_demand,\n",
        "         electricity_generation,\n",
        "         net_elec_imports,    # Net electricity imports, measured in terawatt-hours\n",
        "         energy_per_capita,    # Primary energy consumption per capita, measured in kilowatt-hours    Calculated by Our World in Data based on BP Statistical Review of World Energy and EIA International Energy Data\n",
        "         energy_per_gdp,    # Energy consumption per unit of GDP. This is measured in kilowatt-hours per 2011 international-$.\n",
        "         per_capita_electricity, #    Electricity generation per capita, measured in kilowatt-hours\n",
        "  )\n",
        "\n",
        "# Download data for C02 emissions per capita https://data.worldbank.org/indicator/EN.ATM.CO2E.PC\n",
        "co2_percap <- wb_data(country = \"countries_only\",\n",
        "                      indicator = \"EN.ATM.CO2E.PC\",\n",
        "                      start_date = 1990,\n",
        "                      end_date = 2022,\n",
        "                      return_wide=FALSE) %>%\n",
        "  filter(!is.na(value)) %>%\n",
        "  #drop unwanted variables\n",
        "  select(-c(unit, obs_status, footnote, last_updated)) %>%\n",
        "  rename(year = date,\n",
        "         co2percap = value)\n",
        "\n",
        "\n",
        "# Download data for GDP per capita  https://data.worldbank.org/indicator/NY.GDP.PCAP.PP.KD\n",
        "gdp_percap <- wb_data(country = \"countries_only\",\n",
        "                      indicator = \"NY.GDP.PCAP.PP.KD\",\n",
        "                      start_date = 1990,\n",
        "                      end_date = 2022,\n",
        "                      return_wide=FALSE) %>%\n",
        "  filter(!is.na(value)) %>%\n",
        "  #drop unwanted variables\n",
        "  select(-c(unit, obs_status, footnote, last_updated)) %>%\n",
        "  rename(year = date,\n",
        "         GDPpercap = value)"
      ],
      "metadata": {
        "colab": {
          "base_uri": "https://localhost:8080/"
        },
        "id": "rpos5iVE6j0g",
        "outputId": "5aac450e-ea89-4546-8656-19a8af379c4d"
      },
      "execution_count": 8,
      "outputs": [
        {
          "output_type": "stream",
          "name": "stderr",
          "text": [
            "\u001b[1mRows: \u001b[22m\u001b[34m22012\u001b[39m \u001b[1mColumns: \u001b[22m\u001b[34m129\u001b[39m\n",
            "\u001b[36m──\u001b[39m \u001b[1mColumn specification\u001b[22m \u001b[36m────────────────────────────────────────────────────────\u001b[39m\n",
            "\u001b[1mDelimiter:\u001b[22m \",\"\n",
            "\u001b[31mchr\u001b[39m   (2): country, iso_code\n",
            "\u001b[32mdbl\u001b[39m (127): year, population, gdp, biofuel_cons_change_pct, biofuel_cons_chan...\n",
            "\n",
            "\u001b[36mℹ\u001b[39m Use `spec()` to retrieve the full column specification for this data.\n",
            "\u001b[36mℹ\u001b[39m Specify the column types or set `show_col_types = FALSE` to quiet this message.\n"
          ]
        }
      ]
    },
    {
      "cell_type": "markdown",
      "source": [
        "## 1. A stacked area chart that shows how your own country generated its electricity since 2000.\n",
        "\n",
        "You will use\n",
        "\n",
        "`geom_area(colour=\"grey90\", alpha = 0.5, position = \"fill\")`"
      ],
      "metadata": {
        "id": "ja8A2x-yG_f2"
      }
    },
    {
      "cell_type": "code",
      "source": [
        "generate_stack_graph <- function(...){\n",
        "energy %>%\n",
        "  filter(..., year>1999) %>%\n",
        "  pivot_longer(\n",
        "    cols = c(biofuel, coal, gas, hydro, nuclear, oil, other_renewable, solar, wind),\n",
        "    names_to = \"source\",\n",
        "    values_to = \"Megawatts\"\n",
        "  ) %>% mutate(source = fct_reorder(source, Megawatts)) %>%\n",
        "    select (country, year, source,Megawatts) %>%\n",
        "    ggplot(aes(x=year,y=Megawatts,fill=source))+\n",
        "    geom_area(colour=\"grey90\", alpha = 0.5, position = \"fill\")\n",
        "\n",
        "}\n",
        "\n",
        "generate_stack_graph(country == \"Fiji\")\n"
      ],
      "metadata": {
        "colab": {
          "base_uri": "https://localhost:8080/",
          "height": 437
        },
        "id": "mk7m7IqpHc2B",
        "outputId": "fd2b4e3f-9056-4149-e442-13adc1369610"
      },
      "execution_count": 43,
      "outputs": [
        {
          "output_type": "display_data",
          "data": {
            "text/plain": [
              "plot without title"
            ],
            "image/png": "[encoded data removed]"
          },
          "metadata": {
            "image/png": {
              "width": 420,
              "height": 420
            }
          }
        }
      ]
    },
    {
      "cell_type": "markdown",
      "source": [
        "2. A scatter plot that looks at how CO2 per capita and GDP per capita are related"
      ],
      "metadata": {
        "id": "XrceAdXY_Gop"
      }
    },
    {
      "cell_type": "code",
      "source": [],
      "metadata": {
        "id": "nZrlOEqaGVoI"
      },
      "execution_count": null,
      "outputs": []
    }
  ],
  "metadata": {
    "colab": {
      "provenance": [],
      "authorship_tag": "ABX9TyP6vpGvTjS7kCZoT3/AdOyL",
      "include_colab_link": true
    },
    "kernelspec": {
      "display_name": "R",
      "name": "ir"
    },
    "language_info": {
      "name": "R"
    }
  },
  "nbformat": 4,
  "nbformat_minor": 0
}