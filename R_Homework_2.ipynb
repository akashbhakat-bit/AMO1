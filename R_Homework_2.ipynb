{
  "nbformat": 4,
  "nbformat_minor": 0,
  "metadata": {
    "colab": {
      "provenance": [],
      "include_colab_link": true
    },
    "kernelspec": {
      "name": "ir",
      "display_name": "R"
    },
    "language_info": {
      "name": "R"
    }
  },
  "cells": [
    {
      "cell_type": "markdown",
      "metadata": {
        "id": "view-in-github",
        "colab_type": "text"
      },
      "source": [
        "<a href=\"https://colab.research.google.com/github/akashbhakat-bit/AMO1/blob/main/R_Homework_2.ipynb\" target=\"_parent\"><img src=\"https://colab.research.google.com/assets/colab-badge.svg\" alt=\"Open In Colab\"/></a>"
      ]
    },
    {
      "cell_type": "markdown",
      "source": [
        "Installing & Importing Libraries"
      ],
      "metadata": {
        "id": "3xqHZ8Vtq6Oi"
      }
    },
    {
      "cell_type": "code",
      "source": [
        "install.packages(\"tidyverse\")\n",
        "install.packages(\"ggthemes\")\n",
        "install.packages(\"lubridate\")\n",
        "install.packages(\"skimr\")\n",
        "install.packages(\"janitor\")\n",
        "install.packages(\"httr\")\n",
        "install.packages(\"readxl\")\n",
        "install.packages(\"vroom\")\n",
        "install.packages(\"countrycode\")\n",
        "install.packages(\"patchwork\")\n",
        "install.packages(\"gganimate\")\n",
        "install.packages(\"tictoc\")\n",
        "install.packages(\"DBI\")\n",
        "install.packages(\"dbplyr\")\n",
        "install.packages(\"arrow\")\n",
        "install.packages(\"rvest\")\n",
        "install.packages(\"scales\")\n",
        "install.packages(\"readxl\")\n",
        "install.packages(\"plotly\")\n",
        "install.packages(\"mosaic\")\n",
        "install.packages(\"infer\")"
      ],
      "metadata": {
        "colab": {
          "base_uri": "https://localhost:8080/"
        },
        "id": "X4490X9xqhpO",
        "outputId": "0d6dcb14-b2ce-4f1f-cb11-fc0247961c9a"
      },
      "execution_count": 2,
      "outputs": [
        {
          "metadata": {
            "tags": null
          },
          "name": "stderr",
          "output_type": "stream",
          "text": [
            "Installing package into ‘/usr/local/lib/R/site-library’\n",
            "(as ‘lib’ is unspecified)\n",
            "\n",
            "Installing package into ‘/usr/local/lib/R/site-library’\n",
            "(as ‘lib’ is unspecified)\n",
            "\n",
            "Installing package into ‘/usr/local/lib/R/site-library’\n",
            "(as ‘lib’ is unspecified)\n",
            "\n",
            "Installing package into ‘/usr/local/lib/R/site-library’\n",
            "(as ‘lib’ is unspecified)\n",
            "\n",
            "Installing package into ‘/usr/local/lib/R/site-library’\n",
            "(as ‘lib’ is unspecified)\n",
            "\n",
            "also installing the dependency ‘snakecase’\n",
            "\n",
            "\n",
            "Installing package into ‘/usr/local/lib/R/site-library’\n",
            "(as ‘lib’ is unspecified)\n",
            "\n",
            "Installing package into ‘/usr/local/lib/R/site-library’\n",
            "(as ‘lib’ is unspecified)\n",
            "\n",
            "Installing package into ‘/usr/local/lib/R/site-library’\n",
            "(as ‘lib’ is unspecified)\n",
            "\n",
            "Installing package into ‘/usr/local/lib/R/site-library’\n",
            "(as ‘lib’ is unspecified)\n",
            "\n",
            "Installing package into ‘/usr/local/lib/R/site-library’\n",
            "(as ‘lib’ is unspecified)\n",
            "\n",
            "Installing package into ‘/usr/local/lib/R/site-library’\n",
            "(as ‘lib’ is unspecified)\n",
            "\n",
            "also installing the dependency ‘tweenr’\n",
            "\n",
            "\n",
            "Installing package into ‘/usr/local/lib/R/site-library’\n",
            "(as ‘lib’ is unspecified)\n",
            "\n",
            "Installing package into ‘/usr/local/lib/R/site-library’\n",
            "(as ‘lib’ is unspecified)\n",
            "\n",
            "Installing package into ‘/usr/local/lib/R/site-library’\n",
            "(as ‘lib’ is unspecified)\n",
            "\n",
            "Installing package into ‘/usr/local/lib/R/site-library’\n",
            "(as ‘lib’ is unspecified)\n",
            "\n",
            "also installing the dependency ‘assertthat’\n",
            "\n",
            "\n",
            "Installing package into ‘/usr/local/lib/R/site-library’\n",
            "(as ‘lib’ is unspecified)\n",
            "\n",
            "Installing package into ‘/usr/local/lib/R/site-library’\n",
            "(as ‘lib’ is unspecified)\n",
            "\n",
            "Installing package into ‘/usr/local/lib/R/site-library’\n",
            "(as ‘lib’ is unspecified)\n",
            "\n",
            "Installing package into ‘/usr/local/lib/R/site-library’\n",
            "(as ‘lib’ is unspecified)\n",
            "\n",
            "also installing the dependencies ‘later’, ‘Rcpp’, ‘htmlwidgets’, ‘lazyeval’, ‘crosstalk’, ‘promises’\n",
            "\n",
            "\n",
            "Installing package into ‘/usr/local/lib/R/site-library’\n",
            "(as ‘lib’ is unspecified)\n",
            "\n",
            "also installing the dependencies ‘plyr’, ‘polyclip’, ‘RcppEigen’, ‘ggstance’, ‘ggridges’, ‘ggforce’, ‘labelled’, ‘ggformula’, ‘mosaicData’, ‘mosaicCore’\n",
            "\n",
            "\n"
          ]
        }
      ]
    },
    {
      "cell_type": "code",
      "source": [
        "library(tidyverse)\n",
        "library(mosaic)\n",
        "library(ggthemes)\n",
        "library(lubridate)\n",
        "library(here)\n",
        "library(skimr)\n",
        "library(janitor)\n",
        "library(httr)\n",
        "library(readxl)\n",
        "library(vroom)\n",
        "library(wbstats)\n",
        "library(countrycode)\n",
        "library(patchwork)\n",
        "library(gganimate)\n",
        "library(tictoc)\n",
        "library(DBI)\n",
        "library(dbplyr)\n",
        "library(arrow)\n",
        "library(rvest)\n",
        "library(scales)\n",
        "library(readxl)\n",
        "library(plotly)\n",
        "library(infer)"
      ],
      "metadata": {
        "id": "icYXlKahp3b7",
        "colab": {
          "base_uri": "https://localhost:8080/",
          "height": 1000
        },
        "outputId": "bc91a3b5-af6b-4651-e6bf-637082fbc7fd"
      },
      "execution_count": 3,
      "outputs": [
        {
          "metadata": {
            "tags": null
          },
          "name": "stderr",
          "output_type": "stream",
          "text": [
            "── \u001b[1mAttaching core tidyverse packages\u001b[22m ──────────────────────── tidyverse 2.0.0 ──\n",
            "\u001b[32m✔\u001b[39m \u001b[34mdplyr    \u001b[39m 1.1.2     \u001b[32m✔\u001b[39m \u001b[34mreadr    \u001b[39m 2.1.4\n",
            "\u001b[32m✔\u001b[39m \u001b[34mforcats  \u001b[39m 1.0.0     \u001b[32m✔\u001b[39m \u001b[34mstringr  \u001b[39m 1.5.0\n",
            "\u001b[32m✔\u001b[39m \u001b[34mggplot2  \u001b[39m 3.4.3     \u001b[32m✔\u001b[39m \u001b[34mtibble   \u001b[39m 3.2.1\n",
            "\u001b[32m✔\u001b[39m \u001b[34mlubridate\u001b[39m 1.9.2     \u001b[32m✔\u001b[39m \u001b[34mtidyr    \u001b[39m 1.3.0\n",
            "\u001b[32m✔\u001b[39m \u001b[34mpurrr    \u001b[39m 1.0.2     \n",
            "── \u001b[1mConflicts\u001b[22m ────────────────────────────────────────── tidyverse_conflicts() ──\n",
            "\u001b[31m✖\u001b[39m \u001b[34mdplyr\u001b[39m::\u001b[32mfilter()\u001b[39m masks \u001b[34mstats\u001b[39m::filter()\n",
            "\u001b[31m✖\u001b[39m \u001b[34mdplyr\u001b[39m::\u001b[32mlag()\u001b[39m    masks \u001b[34mstats\u001b[39m::lag()\n",
            "\u001b[36mℹ\u001b[39m Use the conflicted package (\u001b[3m\u001b[34m<http://conflicted.r-lib.org/>\u001b[39m\u001b[23m) to force all conflicts to become errors\n",
            "Registered S3 method overwritten by 'mosaic':\n",
            "  method                           from   \n",
            "  fortify.SpatialPolygonsDataFrame ggplot2\n",
            "\n",
            "\n",
            "The 'mosaic' package masks several functions from core packages in order to add \n",
            "additional features.  The original behavior of these functions should not be affected by this.\n",
            "\n",
            "\n",
            "Attaching package: ‘mosaic’\n",
            "\n",
            "\n",
            "The following object is masked from ‘package:Matrix’:\n",
            "\n",
            "    mean\n",
            "\n",
            "\n",
            "The following objects are masked from ‘package:dplyr’:\n",
            "\n",
            "    count, do, tally\n",
            "\n",
            "\n",
            "The following object is masked from ‘package:purrr’:\n",
            "\n",
            "    cross\n",
            "\n",
            "\n",
            "The following object is masked from ‘package:ggplot2’:\n",
            "\n",
            "    stat\n",
            "\n",
            "\n",
            "The following objects are masked from ‘package:stats’:\n",
            "\n",
            "    binom.test, cor, cor.test, cov, fivenum, IQR, median, prop.test,\n",
            "    quantile, sd, t.test, var\n",
            "\n",
            "\n",
            "The following objects are masked from ‘package:base’:\n",
            "\n",
            "    max, mean, min, prod, range, sample, sum\n",
            "\n",
            "\n",
            "\n",
            "Attaching package: ‘ggthemes’\n",
            "\n",
            "\n",
            "The following object is masked from ‘package:mosaic’:\n",
            "\n",
            "    theme_map\n",
            "\n",
            "\n"
          ]
        },
        {
          "ename": "ERROR",
          "evalue": "ignored",
          "output_type": "error",
          "traceback": [
            "Error in library(here): there is no package called ‘here’\nTraceback:\n",
            "1. library(here)"
          ]
        }
      ]
    },
    {
      "cell_type": "markdown",
      "source": [
        "Question 1 -> Weather"
      ],
      "metadata": {
        "id": "-ia-EhbEq90t"
      }
    },
    {
      "cell_type": "code",
      "source": [
        "#```{r weather_data, cache=TRUE}\n",
        "\n",
        "# Importing dataset\n",
        "weather <-read_csv(\"https://data.giss.nasa.gov/gistemp/tabledata_v4/NH.Ts+dSST.csv\",skip = 1,na = \"***\")\n",
        "\n",
        "# Exploring Contents and Structure\n",
        "head(weather)\n",
        "skim(weather)"
      ],
      "metadata": {
        "id": "DRyMEAujqAuW"
      },
      "execution_count": null,
      "outputs": []
    },
    {
      "cell_type": "markdown",
      "source": [
        "You have two objectives in this section:\n",
        "\n",
        "1.  Select the year and the twelve month variables from the `weather`\n",
        "    dataset. We do not need the others (J-D, D-N, DJF, etc.) for this\n",
        "    assignment. Hint: use `select()` function.\n",
        "\n",
        "2.  Convert the dataframe from wide to 'long' format. Hint: use\n",
        "    `gather()` or `pivot_longer()` function. Name the new dataframe as\n",
        "    `tidyweather`, name the variable containing the name of the month as\n",
        "    `month`, and the temperature deviation values as `delta`.\n"
      ],
      "metadata": {
        "id": "Cv9g7Ytm1Xuh"
      }
    },
    {
      "cell_type": "code",
      "source": [
        "#```{r tidyweather}\n",
        "#Select the year and the twelve month variables from the `weather`\n",
        "#dataset. We do not need the others (J-D, D-N, DJF, etc.) for this\n",
        "#assignment. Hint: use `select()` function.\n",
        "\n",
        "selected_weather <- weather %>%         # Select the necessary columns\n",
        "  select(Year, Jan:Dec)                 # selecting year and required months variable\n",
        "\n",
        "head(selected_weather)                  # exploring resultant dataset structure\n",
        "\n",
        "\n",
        "#Convert the dataframe from wide to 'long' format. Hint: use\n",
        "#`gather()` or `pivot_longer()` function. Name the new dataframe as\n",
        "#`tidyweather`, name the variable containing the name of the month as\n",
        "#`month`, and the temperature deviation values as `delta`.\n",
        "\n",
        "tidyweather <- selected_weather %>%\n",
        "  pivot_longer(cols = Jan:Dec,          # selecting existing columns\n",
        "               names_to = \"month\",      # assigning to new column\n",
        "               values_to = \"delta\")     # assigning associated values\n",
        "\n",
        "head(tidyweather)                       # exploring resultant dataset structure\n",
        "\n",
        "#```"
      ],
      "metadata": {
        "id": "NdoEBwqOqCpr"
      },
      "execution_count": null,
      "outputs": []
    },
    {
      "cell_type": "markdown",
      "source": [
        "## Plotting Information\n",
        "\n",
        "Let us plot the data using a time-series scatter plot, and add a\n",
        "trendline. To do that, we first need to create a new variable called\n",
        "`date` in order to ensure that the `delta` values are plot\n",
        "chronologically."
      ],
      "metadata": {
        "id": "V49DcqKD1l2C"
      }
    },
    {
      "cell_type": "code",
      "source": [
        "#Let us plot the data using a time-series scatter plot, and add a\n",
        "#trendline. To do that, we first need to create a new variable called\n",
        "#`date` in order to ensure that the `delta` values are plot\n",
        "#chronologically.\n",
        "\n",
        "# ```{r scatter_plot, eval=FALSE}\n",
        "\n",
        "# Approach - 1. create dataframe with requirements, i.e., convert month-year to year-month-date format\n",
        "#            2. plot the graph - scatter plot - geom_point() with trendline - geom_smotth()\n",
        "\n",
        "tidyweather <- tidyweather %>%\n",
        "  mutate(date = ymd(paste(as.character(Year), month, \"1\")),                     # Adding date - for time-series graph\n",
        "         month = month(date, label=TRUE))                                       # Adding month\n",
        "\n",
        "head(tidyweather)\n",
        "\n",
        "ggplot(tidyweather, aes(x=date, y = delta))+\n",
        "  geom_point()+                                                                                             # for plotting scatter plot\n",
        "  geom_smooth(color=\"red\") +                                                                                # add trendline of colour red for better readability\n",
        "  theme_bw() +                                                                                              # theme\n",
        "  labs ( x= \"Timeline\", y= \"Difference from set-standard temperature\", title = \"Weather Anomalies\"          # labels\n",
        "  )\n"
      ],
      "metadata": {
        "id": "IaB-uqdLtxcc"
      },
      "execution_count": null,
      "outputs": []
    },
    {
      "cell_type": "markdown",
      "source": [
        "Is the effect of increasing temperature more pronounced in some months?\n",
        "Use `facet_wrap()` to produce a seperate scatter plot for each month,\n",
        "again with a smoothing line. Your chart should human-readable labels;\n",
        "that is, each month should be labeled \"Jan\", \"Feb\", \"Mar\" (full or\n",
        "abbreviated month names are fine), not `1`, `2`, `3`."
      ],
      "metadata": {
        "id": "SDm6rea01uMu"
      }
    },
    {
      "cell_type": "code",
      "source": [],
      "metadata": {
        "id": "lEyvtWUlzn8-"
      },
      "execution_count": null,
      "outputs": []
    },
    {
      "cell_type": "code",
      "source": [
        "# ```{r facet_wrap, echo=FALSE}\n",
        "\n",
        "ggplot(tidyweather, aes(x=date, y = delta))+          #  X axis = Date, Y axis = Difference between temperatures - delta\n",
        "  geom_point()+                                       # geom_point for scatter plot\n",
        "  geom_smooth(color=\"red\") +                          # geom_smooth to add trendline - Red color for better readability\n",
        "  theme_bw() +\n",
        "  facet_wrap(~month) +                                # facet_wrap to create plot month-wise\n",
        "  labs (                                              # labels\n",
        "    title =  x= \"Timeline\", y= \"Difference from set-standard temperature\", title = \"Weather Anomalies\"\n",
        "  )"
      ],
      "metadata": {
        "id": "tQ9P8TjhzCHc"
      },
      "execution_count": null,
      "outputs": []
    },
    {
      "cell_type": "markdown",
      "source": [
        "Is the effect of increasing temperature more pronounced in some months?\n",
        "\n",
        "Answer - ?"
      ],
      "metadata": {
        "id": "THyMIIaVzLwe"
      }
    },
    {
      "cell_type": "markdown",
      "source": [
        "Remove data before 1800 and before using `filter`. Then, we use the\n",
        "`mutate` function to create a new variable `interval` which contains\n",
        "information on which period each observation belongs to"
      ],
      "metadata": {
        "id": "caL4vi9A0fue"
      }
    },
    {
      "cell_type": "code",
      "source": [
        "# ```{r intervals, eval=FALSE}\n",
        "# Approach - 1. filter non-required years group\n",
        "#            2. categorize into required intervals\n",
        "\n",
        "comparison <- tidyweather %>%\n",
        "  filter(Year>= 1881) %>%                                                       # filter to remove years prior to 1881\n",
        "  mutate(interval = case_when(                                                  # create new variable 'interval', and assign values based on criteria below:\n",
        "    Year %in% c(1881:1920) ~ \"1881-1920\",\n",
        "    Year %in% c(1921:1950) ~ \"1921-1950\",\n",
        "    Year %in% c(1951:1980) ~ \"1951-1980\",\n",
        "    Year %in% c(1981:2010) ~ \"1981-2010\",\n",
        "    TRUE ~ \"2011-present\"\n",
        "  ))\n",
        "\n",
        "head(comparison)"
      ],
      "metadata": {
        "colab": {
          "base_uri": "https://localhost:8080/",
          "height": 286
        },
        "id": "x0YHKeWuza7z",
        "outputId": "4ac89ecb-1845-4425-fdbe-9229e8bc5d57"
      },
      "execution_count": null,
      "outputs": [
        {
          "output_type": "display_data",
          "data": {
            "text/html": [
              "<table class=\"dataframe\">\n",
              "<caption>A tibble: 6 × 6</caption>\n",
              "<thead>\n",
              "\t<tr><th scope=col>Year</th><th scope=col>month</th><th scope=col>delta</th><th scope=col>date</th><th scope=col>year</th><th scope=col>interval</th></tr>\n",
              "\t<tr><th scope=col>&lt;dbl&gt;</th><th scope=col>&lt;ord&gt;</th><th scope=col>&lt;dbl&gt;</th><th scope=col>&lt;date&gt;</th><th scope=col>&lt;dbl&gt;</th><th scope=col>&lt;chr&gt;</th></tr>\n",
              "</thead>\n",
              "<tbody>\n",
              "\t<tr><td>1881</td><td>Jan</td><td>-0.32</td><td>1881-01-01</td><td>1881</td><td>1881-1920</td></tr>\n",
              "\t<tr><td>1881</td><td>Feb</td><td>-0.24</td><td>1881-02-01</td><td>1881</td><td>1881-1920</td></tr>\n",
              "\t<tr><td>1881</td><td>Mar</td><td>-0.06</td><td>1881-03-01</td><td>1881</td><td>1881-1920</td></tr>\n",
              "\t<tr><td>1881</td><td>Apr</td><td>-0.02</td><td>1881-04-01</td><td>1881</td><td>1881-1920</td></tr>\n",
              "\t<tr><td>1881</td><td>May</td><td> 0.01</td><td>1881-05-01</td><td>1881</td><td>1881-1920</td></tr>\n",
              "\t<tr><td>1881</td><td>Jun</td><td>-0.35</td><td>1881-06-01</td><td>1881</td><td>1881-1920</td></tr>\n",
              "</tbody>\n",
              "</table>\n"
            ],
            "text/markdown": "\nA tibble: 6 × 6\n\n| Year &lt;dbl&gt; | month &lt;ord&gt; | delta &lt;dbl&gt; | date &lt;date&gt; | year &lt;dbl&gt; | interval &lt;chr&gt; |\n|---|---|---|---|---|---|\n| 1881 | Jan | -0.32 | 1881-01-01 | 1881 | 1881-1920 |\n| 1881 | Feb | -0.24 | 1881-02-01 | 1881 | 1881-1920 |\n| 1881 | Mar | -0.06 | 1881-03-01 | 1881 | 1881-1920 |\n| 1881 | Apr | -0.02 | 1881-04-01 | 1881 | 1881-1920 |\n| 1881 | May |  0.01 | 1881-05-01 | 1881 | 1881-1920 |\n| 1881 | Jun | -0.35 | 1881-06-01 | 1881 | 1881-1920 |\n\n",
            "text/latex": "A tibble: 6 × 6\n\\begin{tabular}{llllll}\n Year & month & delta & date & year & interval\\\\\n <dbl> & <ord> & <dbl> & <date> & <dbl> & <chr>\\\\\n\\hline\n\t 1881 & Jan & -0.32 & 1881-01-01 & 1881 & 1881-1920\\\\\n\t 1881 & Feb & -0.24 & 1881-02-01 & 1881 & 1881-1920\\\\\n\t 1881 & Mar & -0.06 & 1881-03-01 & 1881 & 1881-1920\\\\\n\t 1881 & Apr & -0.02 & 1881-04-01 & 1881 & 1881-1920\\\\\n\t 1881 & May &  0.01 & 1881-05-01 & 1881 & 1881-1920\\\\\n\t 1881 & Jun & -0.35 & 1881-06-01 & 1881 & 1881-1920\\\\\n\\end{tabular}\n",
            "text/plain": [
              "  Year month delta date       year interval \n",
              "1 1881 Jan   -0.32 1881-01-01 1881 1881-1920\n",
              "2 1881 Feb   -0.24 1881-02-01 1881 1881-1920\n",
              "3 1881 Mar   -0.06 1881-03-01 1881 1881-1920\n",
              "4 1881 Apr   -0.02 1881-04-01 1881 1881-1920\n",
              "5 1881 May    0.01 1881-05-01 1881 1881-1920\n",
              "6 1881 Jun   -0.35 1881-06-01 1881 1881-1920"
            ]
          },
          "metadata": {}
        }
      ]
    },
    {
      "cell_type": "markdown",
      "source": [
        "Now that we have the `interval` variable, we can create a density plot\n",
        "to study the distribution of monthly deviations (`delta`), grouped by\n",
        "the different time periods we are interested in. Set `fill` to\n",
        "`interval` to group and colour the data by different time periods.\n"
      ],
      "metadata": {
        "id": "EHa1csgH3Mnc"
      }
    },
    {
      "cell_type": "code",
      "source": [
        "# ```{r density_plot, eval=FALSE}\n",
        "ggplot(comparison, aes(x = delta, fill = interval))+\n",
        "  geom_density(ncol = 3)+                                                       # geom_density() - Density plot\n",
        "  facet_wrap(~interval)+                                                        # facet_wrap() - plot by respective intervals\n",
        "  theme_bw()+\n",
        "  theme(legend.position = \"none\")+                                              # removing legen since we already categorized with facet_wrap\n",
        "  labs(title = \"Distribution of temperature deviations grouped by time period\", # labels\n",
        "       x = \"Montly deviations in temperature \",\n",
        "      y = \"Temperature Deviation\")"
      ],
      "metadata": {
        "colab": {
          "base_uri": "https://localhost:8080/",
          "height": 506
        },
        "id": "sGJbIq2A1QDg",
        "outputId": "c0a8c984-c9b9-450e-db59-d832a74d3a0b"
      },
      "execution_count": null,
      "outputs": [
        {
          "output_type": "stream",
          "name": "stderr",
          "text": [
            "Warning message in geom_density(nrow = 1):\n",
            "“\u001b[1m\u001b[22mIgnoring unknown parameters: `nrow`”\n",
            "Warning message:\n",
            "“\u001b[1m\u001b[22mRemoved 5 rows containing non-finite values (`stat_density()`).”\n"
          ]
        },
        {
          "output_type": "display_data",
          "data": {
            "text/plain": [
              "plot without title"
            ],
            "image/png": "[encoded data removed]"
          },
          "metadata": {
            "image/png": {
              "width": 420,
              "height": 420
            }
          }
        }
      ]
    },
    {
      "cell_type": "markdown",
      "source": [
        "So far, we have been working with monthly anomalies. However, we might\n",
        "be interested in average annual anomalies. We can do this by using\n",
        "`group_by()` and `summarise()`, followed by a scatter plot to display\n",
        "the result."
      ],
      "metadata": {
        "id": "dk8fU1K23Ixt"
      }
    },
    {
      "cell_type": "code",
      "source": [
        "# ```{r averaging, eval=FALSE}\n",
        "average_annual_anomaly <- tidyweather %>%\n",
        "  group_by(Year) %>%                                                            #grouping data by Year\n",
        "  summarise(yearly_averages = mean(delta))                                      # creating summaries for mean delta\n",
        "                                                                                # using `na.rm=TRUE` to eliminate NA (not available) values\n",
        "\n",
        "#plotting the data:\n",
        "\n",
        "ggplot(average_annual_anomaly, aes(y = yearly_averages, x = Year))+             # X axis = Year, Y axis = Yearly Averageof delta\n",
        "              geom_point()+                                                     # scatter plot\n",
        "              geom_smooth(method = \"loess\",se = F)+                             #method = \"loess\"\n",
        "              theme_bw()+                                                       # black and white theme to have white background + black frame around plot\n",
        "              labs(title = \"Plot of average annual anomalies from 1880 - 2023\", # labels\n",
        "                   y = \"Average annual anomaly\")\n"
      ],
      "metadata": {
        "id": "yA2gPpRd1sgd"
      },
      "execution_count": null,
      "outputs": []
    },
    {
      "cell_type": "markdown",
      "source": [
        "Your task is to construct a confidence interval for the average annual\n",
        "delta since 2011, both using a formula and using a bootstrap simulation\n",
        "with the `infer` package. Recall that the dataframe `comparison` has\n",
        "already grouped temperature anomalies according to time intervals; we\n",
        "are only interested in what is happening between 2011-present."
      ],
      "metadata": {
        "id": "qfFlI4bv3eZN"
      }
    },
    {
      "cell_type": "markdown",
      "source": [
        "95% confidence interval"
      ],
      "metadata": {
        "id": "XWsg5O9x_Ps8"
      }
    },
    {
      "cell_type": "code",
      "source": [
        "comparison_2011_present <- comparison %>% filter(interval== \"2011-present\")\n",
        "head(comparison_2011_present)\n"
      ],
      "metadata": {
        "colab": {
          "base_uri": "https://localhost:8080/",
          "height": 286
        },
        "id": "1ufxF6U7_VuV",
        "outputId": "a722d218-ff32-4f98-9aad-1e537136b319"
      },
      "execution_count": null,
      "outputs": [
        {
          "output_type": "display_data",
          "data": {
            "text/html": [
              "<table class=\"dataframe\">\n",
              "<caption>A tibble: 6 × 6</caption>\n",
              "<thead>\n",
              "\t<tr><th scope=col>Year</th><th scope=col>month</th><th scope=col>delta</th><th scope=col>date</th><th scope=col>year</th><th scope=col>interval</th></tr>\n",
              "\t<tr><th scope=col>&lt;dbl&gt;</th><th scope=col>&lt;ord&gt;</th><th scope=col>&lt;dbl&gt;</th><th scope=col>&lt;date&gt;</th><th scope=col>&lt;dbl&gt;</th><th scope=col>&lt;chr&gt;</th></tr>\n",
              "</thead>\n",
              "<tbody>\n",
              "\t<tr><td>2011</td><td>Jan</td><td>0.61</td><td>2011-01-01</td><td>2011</td><td>2011-present</td></tr>\n",
              "\t<tr><td>2011</td><td>Feb</td><td>0.56</td><td>2011-02-01</td><td>2011</td><td>2011-present</td></tr>\n",
              "\t<tr><td>2011</td><td>Mar</td><td>0.88</td><td>2011-03-01</td><td>2011</td><td>2011-present</td></tr>\n",
              "\t<tr><td>2011</td><td>Apr</td><td>0.84</td><td>2011-04-01</td><td>2011</td><td>2011-present</td></tr>\n",
              "\t<tr><td>2011</td><td>May</td><td>0.65</td><td>2011-05-01</td><td>2011</td><td>2011-present</td></tr>\n",
              "\t<tr><td>2011</td><td>Jun</td><td>0.76</td><td>2011-06-01</td><td>2011</td><td>2011-present</td></tr>\n",
              "</tbody>\n",
              "</table>\n"
            ],
            "text/markdown": "\nA tibble: 6 × 6\n\n| Year &lt;dbl&gt; | month &lt;ord&gt; | delta &lt;dbl&gt; | date &lt;date&gt; | year &lt;dbl&gt; | interval &lt;chr&gt; |\n|---|---|---|---|---|---|\n| 2011 | Jan | 0.61 | 2011-01-01 | 2011 | 2011-present |\n| 2011 | Feb | 0.56 | 2011-02-01 | 2011 | 2011-present |\n| 2011 | Mar | 0.88 | 2011-03-01 | 2011 | 2011-present |\n| 2011 | Apr | 0.84 | 2011-04-01 | 2011 | 2011-present |\n| 2011 | May | 0.65 | 2011-05-01 | 2011 | 2011-present |\n| 2011 | Jun | 0.76 | 2011-06-01 | 2011 | 2011-present |\n\n",
            "text/latex": "A tibble: 6 × 6\n\\begin{tabular}{llllll}\n Year & month & delta & date & year & interval\\\\\n <dbl> & <ord> & <dbl> & <date> & <dbl> & <chr>\\\\\n\\hline\n\t 2011 & Jan & 0.61 & 2011-01-01 & 2011 & 2011-present\\\\\n\t 2011 & Feb & 0.56 & 2011-02-01 & 2011 & 2011-present\\\\\n\t 2011 & Mar & 0.88 & 2011-03-01 & 2011 & 2011-present\\\\\n\t 2011 & Apr & 0.84 & 2011-04-01 & 2011 & 2011-present\\\\\n\t 2011 & May & 0.65 & 2011-05-01 & 2011 & 2011-present\\\\\n\t 2011 & Jun & 0.76 & 2011-06-01 & 2011 & 2011-present\\\\\n\\end{tabular}\n",
            "text/plain": [
              "  Year month delta date       year interval    \n",
              "1 2011 Jan   0.61  2011-01-01 2011 2011-present\n",
              "2 2011 Feb   0.56  2011-02-01 2011 2011-present\n",
              "3 2011 Mar   0.88  2011-03-01 2011 2011-present\n",
              "4 2011 Apr   0.84  2011-04-01 2011 2011-present\n",
              "5 2011 May   0.65  2011-05-01 2011 2011-present\n",
              "6 2011 Jun   0.76  2011-06-01 2011 2011-present"
            ]
          },
          "metadata": {}
        }
      ]
    },
    {
      "cell_type": "code",
      "source": [
        "alpha <- 0.05  # Set the confidence level (e.g., 95%)\n",
        "\n",
        "mean_delta <- mean(comparison_2011_present$delta, na.rm=TRUE)\n",
        "n <- length(comparison_2011_present, na.rm=TRUE)\n",
        "se <- sd(comparison_2011_present$delta, na.rm=TRUE) / sqrt(n)\n",
        "\n",
        "min_limit = mean_delta - 1.96*se\n",
        "max_limit = mean_delta + 1.96*se\n",
        "cat(\"Formula-Based Confidence Interval (95%): [\", min_limit, \", \", max_limit, \"]\\n\")\n",
        "mean_delta\n",
        "n\n",
        "se"
      ],
      "metadata": {
        "colab": {
          "base_uri": "https://localhost:8080/",
          "height": 69
        },
        "id": "IL_Gg8xw3hCs",
        "outputId": "60d6f3d4-b687-42bb-c32d-37873ef330ea"
      },
      "execution_count": null,
      "outputs": [
        {
          "output_type": "display_data",
          "data": {
            "text/html": [
              "1.07417218543046"
            ],
            "text/markdown": "1.07417218543046",
            "text/latex": "1.07417218543046",
            "text/plain": [
              "[1] 1.074172"
            ]
          },
          "metadata": {}
        },
        {
          "output_type": "display_data",
          "data": {
            "text/html": [
              "6"
            ],
            "text/markdown": "6",
            "text/latex": "6",
            "text/plain": [
              "[1] 6"
            ]
          },
          "metadata": {}
        },
        {
          "output_type": "display_data",
          "data": {
            "text/html": [
              "0.106831495164523"
            ],
            "text/markdown": "0.106831495164523",
            "text/latex": "0.106831495164523",
            "text/plain": [
              "[1] 0.1068315"
            ]
          },
          "metadata": {}
        }
      ]
    },
    {
      "cell_type": "code",
      "source": [
        "z <- qnorm(1 - alpha / 2)\n",
        "margin_of_error <- z * se\n",
        "\n",
        "# Calculate the confidence interval\n",
        "lower_bound <- mean_delta - margin_of_error\n",
        "upper_bound <- mean_delta + margin_of_error\n",
        "cat(\"Formula-Based Confidence Interval (95%): [\", lower_bound, \", \", upper_bound, \"]\\n\")"
      ],
      "metadata": {
        "colab": {
          "base_uri": "https://localhost:8080/"
        },
        "id": "EK_n6ZfkAdsW",
        "outputId": "a8308a58-d4de-4383-d00f-b263c9590752"
      },
      "execution_count": null,
      "outputs": [
        {
          "output_type": "stream",
          "name": "stdout",
          "text": [
            "Formula-Based Confidence Interval (95%): [ 0.8647863 ,  1.283558 ]\n"
          ]
        }
      ]
    },
    {
      "cell_type": "markdown",
      "source": [
        "> What is the data showing us? Please type your answer after (and\n",
        "> outside!) this blockquote. You have to explain what you have done, and\n",
        "> the interpretation of the result. One paragraph max, please!\n",
        "\n",
        "Answer - ??"
      ],
      "metadata": {
        "id": "DBSPgIov_1_1"
      }
    },
    {
      "cell_type": "code",
      "source": [],
      "metadata": {
        "id": "j8zwrRY4_4mq"
      },
      "execution_count": null,
      "outputs": []
    }
  ]
}